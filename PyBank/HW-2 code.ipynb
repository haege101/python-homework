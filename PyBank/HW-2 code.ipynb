{
 "cells": [
  {
   "cell_type": "code",
   "execution_count": 10,
   "id": "a83d2958-f95e-457d-afb3-6f6350df4f80",
   "metadata": {},
   "outputs": [],
   "source": [
    "import csv\n",
    "from pathlib import Path"
   ]
  },
  {
   "cell_type": "code",
   "execution_count": 11,
   "id": "523af441-4d59-4cc3-9864-effe0877201b",
   "metadata": {},
   "outputs": [],
   "source": [
    "csvpath = Path(\"budget_data.csv\")"
   ]
  },
  {
   "cell_type": "code",
   "execution_count": 12,
   "id": "bba7c171-b54a-47db-98c7-21cf42345974",
   "metadata": {},
   "outputs": [
    {
     "name": "stdout",
     "output_type": "stream",
     "text": [
      "<_io.TextIOWrapper name='budget_data.csv' mode='r' encoding='UTF-8'>\n"
     ]
    }
   ],
   "source": [
    "with open(csvpath) as csvfile:\n",
    "    print(csvfile)"
   ]
  },
  {
   "cell_type": "code",
   "execution_count": 13,
   "id": "a4c8485f-c214-4001-a237-3b145b8af351",
   "metadata": {},
   "outputs": [],
   "source": [
    "total_months = 0\n",
    "total_profit_losses = 0\n",
    "change_in_profit_losses = []\n",
    "#previous_profit_losses = []\n",
    "avg_change_in_profit = 0\n",
    "previous_val = 0\n",
    "max_change = [\"\",0]\n",
    "min_change = [\"\",0]\n"
   ]
  },
  {
   "cell_type": "code",
   "execution_count": 14,
   "id": "0d46cc39-f2c3-47d8-9562-b63ecdd67918",
   "metadata": {},
   "outputs": [
    {
     "name": "stdout",
     "output_type": "stream",
     "text": [
      "Total Number of Months: , 86\n",
      "Total Profit: , 38382578\n",
      "Average Change: , -426534.65882352943\n",
      "Greatest Increase in Profits: , ['Feb-2010', '984655']\n",
      "Greatest Decrease in Profits: , ['Jul-2016', '-1163797']\n"
     ]
    }
   ],
   "source": [
    "with open(csvpath, mode='r') as csvfile:\n",
    "    csvreader = csv.reader(csvfile, delimiter=\",\")\n",
    "    csv_header = next(csvreader)\n",
    "    #first_row = next(csvreader)\n",
    "    #total_months = total_months + 1\n",
    "    #total_profit_losses = total_profit_losses + int(first_row[1])\n",
    "    #previous_net = int(first_row[1])\n",
    "    #avg_change_in_profit = sum(change_in_profit_losses)/len(change_in_profit_losses)\n",
    "    #max_profit_increase = max(change_in_profit_losses)\n",
    "    #min_profit_increase = min(change_in_profit_losses)\n",
    "    \n",
    "    for row in csvreader:\n",
    "        \n",
    "        current_net = int(row[1]) - previous_val # calculate the change\n",
    "        total_months += 1 # count the months\n",
    "        total_profit_losses += int(row[1]) # add to cummulative total\n",
    "        \n",
    "        if previous_val ==0: # first row, no change\n",
    "            previous_val = int(row[1])\n",
    "        else:\n",
    "            change_in_profit_losses.append(current_net)\n",
    "            previous_net = int(row[1])\n",
    "        \n",
    "        # if total_months ==1 then we are on first row, no change\n",
    "        if total_months != 1 and current_net > int(max_change[1]):\n",
    "            max_change = row\n",
    "        elif total_months != 1 and current_net < int(min_change[1]):\n",
    "            min_change = row\n",
    "        \n",
    "\n",
    "        \n",
    "        \n",
    "\n",
    "print(f\"Total Number of Months: , {total_months}\") # {} not () and quotes go around the enitre string\n",
    "print(f\"Total Profit: , {total_profit_losses}\")\n",
    "print(f\"Average Change: , {sum(change_in_profit_losses)/len(change_in_profit_losses)}\")\n",
    "print(f\"Greatest Increase in Profits: , {max_change}\")\n",
    "print(f\"Greatest Decrease in Profits: , {min_change}\")"
   ]
  },
  {
   "cell_type": "code",
   "execution_count": 16,
   "id": "df0e9aad-7d28-4fca-97df-1be13d59efab",
   "metadata": {},
   "outputs": [],
   "source": [
    "out_path = Path(\"Output.txt\")\n",
    "with open(out_path, \"w\") as txt_file:\n",
    "    txt_file.write(\"Financial Analysis \\n\")\n",
    "    txt_file.write(\"---------------------- \\n\")\n",
    "    txt_file.write(f\"Total Number of Months: {total_months} \\n\")\n",
    "    txt_file.write(f\"Total Profit: {total_profit_losses} \\n\")\n",
    "    txt_file.write(f\"Average Change: {sum(change_in_profit_losses)/len(change_in_profit_losses)} \\n\")\n",
    "    txt_file.write(f\"Greatest Increase in Profits: {max_change} \\n\")\n",
    "    txt_file.write(f\"Greatest Decrease in Profits: {min_change} \")"
   ]
  },
  {
   "cell_type": "code",
   "execution_count": 17,
   "id": "4e06b24a-de82-4d3f-8ac1-04cd3e2d7e82",
   "metadata": {},
   "outputs": [
    {
     "data": {
      "text/plain": [
       "[116771,\n",
       " -545871,\n",
       " -937301,\n",
       " -557381,\n",
       " -345027,\n",
       " 165212,\n",
       " -262999,\n",
       " -1084270,\n",
       " -390352,\n",
       " 25926,\n",
       " -948237,\n",
       " -88078,\n",
       " -1203087,\n",
       " -170039,\n",
       " -74721,\n",
       " -382814,\n",
       " -283762,\n",
       " -805155,\n",
       " -199705,\n",
       " 32022,\n",
       " -33165,\n",
       " -735881,\n",
       " -557906,\n",
       " -1623450,\n",
       " 302709,\n",
       " -615096,\n",
       " 283634,\n",
       " -50628,\n",
       " -297127,\n",
       " -361182,\n",
       " -1890418,\n",
       " -392822,\n",
       " -87908,\n",
       " -723709,\n",
       " -325390,\n",
       " -508551,\n",
       " -546415,\n",
       " -800104,\n",
       " -396449,\n",
       " -302281,\n",
       " 4596,\n",
       " -78404,\n",
       " 132058,\n",
       " -2064109,\n",
       " -598887,\n",
       " -1555870,\n",
       " 282577,\n",
       " -185426,\n",
       " -250028,\n",
       " -43786,\n",
       " -285941,\n",
       " -735020,\n",
       " -419822,\n",
       " -178723,\n",
       " -67183,\n",
       " 298759,\n",
       " 79449,\n",
       " -289216,\n",
       " 120621,\n",
       " 271831,\n",
       " 161587,\n",
       " -180351,\n",
       " -1392510,\n",
       " -709264,\n",
       " -780089,\n",
       " -444495,\n",
       " -27161,\n",
       " -299355,\n",
       " -535817,\n",
       " 121615,\n",
       " -89647,\n",
       " -217884,\n",
       " -1968271,\n",
       " -1042830,\n",
       " -110741,\n",
       " -422175,\n",
       " -154923,\n",
       " -2031681,\n",
       " -297985,\n",
       " -99434,\n",
       " -765199,\n",
       " -71970,\n",
       " -806896,\n",
       " -729654,\n",
       " -196785]"
      ]
     },
     "execution_count": 17,
     "metadata": {},
     "output_type": "execute_result"
    }
   ],
   "source": [
    "change_in_profit_losses"
   ]
  },
  {
   "cell_type": "code",
   "execution_count": null,
   "id": "344aede3-2811-434f-8ac2-9d39a1769e32",
   "metadata": {},
   "outputs": [],
   "source": []
  }
 ],
 "metadata": {
  "kernelspec": {
   "display_name": "Python 3",
   "language": "python",
   "name": "python3"
  },
  "language_info": {
   "codemirror_mode": {
    "name": "ipython",
    "version": 3
   },
   "file_extension": ".py",
   "mimetype": "text/x-python",
   "name": "python",
   "nbconvert_exporter": "python",
   "pygments_lexer": "ipython3",
   "version": "3.7.10"
  }
 },
 "nbformat": 4,
 "nbformat_minor": 5
}
