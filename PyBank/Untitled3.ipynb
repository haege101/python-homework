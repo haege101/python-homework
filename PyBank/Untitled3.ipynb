{
 "cells": [
  {
   "cell_type": "code",
   "execution_count": 104,
   "id": "a83d2958-f95e-457d-afb3-6f6350df4f80",
   "metadata": {},
   "outputs": [],
   "source": [
    "import csv\n",
    "from pathlib import Path"
   ]
  },
  {
   "cell_type": "code",
   "execution_count": 105,
   "id": "523af441-4d59-4cc3-9864-effe0877201b",
   "metadata": {},
   "outputs": [],
   "source": [
    "csvpath = Path(\"PyBank/budget_data.csv\")"
   ]
  },
  {
   "cell_type": "code",
   "execution_count": 106,
   "id": "bba7c171-b54a-47db-98c7-21cf42345974",
   "metadata": {},
   "outputs": [
    {
     "name": "stdout",
     "output_type": "stream",
     "text": [
      "<_io.TextIOWrapper name='PyBank/budget_data.csv' mode='r' encoding='UTF-8'>\n"
     ]
    }
   ],
   "source": [
    "with open(csvpath) as csvfile:\n",
    "    print(csvfile)"
   ]
  },
  {
   "cell_type": "code",
   "execution_count": 126,
   "id": "a4c8485f-c214-4001-a237-3b145b8af351",
   "metadata": {},
   "outputs": [],
   "source": [
    "total_months = 0\n",
    "total_profit_losses = 0\n",
    "change_in_profit_losses = []\n",
    "previous_profit_losses = []\n",
    "avg_change_in_profit = 0\n"
   ]
  },
  {
   "cell_type": "code",
   "execution_count": 143,
   "id": "0d46cc39-f2c3-47d8-9562-b63ecdd67918",
   "metadata": {},
   "outputs": [
    {
     "name": "stdout",
     "output_type": "stream",
     "text": [
      "Total Number of Months:  1035\n",
      "Total Profit:  463194588\n",
      "Average Change:  -2315.1176470588234\n",
      "Greatest Increase in Profits:  1926159\n",
      "Greatest Decrease in Profits:  -2196167\n"
     ]
    }
   ],
   "source": [
    "with open(csvpath, mode='r') as csvfile:\n",
    "    csvreader = csv.reader(csvfile, delimiter=\",\")\n",
    "    csv_header = next(csvreader)\n",
    "    first_row = next(csvreader)\n",
    "    total_months = total_months + 1\n",
    "    total_profit_losses = total_profit_losses + int(first_row[1])\n",
    "    previous_net = int(first_row[1])\n",
    "    avg_change_in_profit = sum(change_in_profit_losses)/len(change_in_profit_losses)\n",
    "    max_profit_increase = max(change_in_profit_losses)\n",
    "    min_profit_increase = min(change_in_profit_losses)\n",
    "    \n",
    "    for row in csvreader:\n",
    "        total_months += 1\n",
    "        total_profit_losses += int(row[1])\n",
    "        \n",
    "        current_net = int(row[1]) - previous_net\n",
    "        change_in_profit_losses.append(current_net)\n",
    "        previous_net = int(row[1])\n",
    "\n",
    "print(f\"Total Number of Months: \", (total_months)) \n",
    "print(f\"Total Profit: \", (total_profit_losses))\n",
    "print(f\"Average Change: \", (avg_change_in_profit))\n",
    "print(f\"Greatest Increase in Profits: \", (max_profit_increase))\n",
    "print(f\"Greatest Decrease in Profits: \", (min_profit_increase))"
   ]
  },
  {
   "cell_type": "code",
   "execution_count": 154,
   "id": "df0e9aad-7d28-4fca-97df-1be13d59efab",
   "metadata": {},
   "outputs": [],
   "source": [
    "out_path = Path(\"Pybank/Output.txt\")\n",
    "with open(out_path, \"w\") as txt_file:\n",
    "    txt_file.write(\"Financial Analysis \\n\")\n",
    "    txt_file.write(\"---------------------- \\n\")\n",
    "    txt_file.write(f\"Total Number of Months: (total_months) \\n\")\n",
    "    txt_file.write(f\"Total Profit: (total_profit_losses) \\n\")\n",
    "    txt_file.write(f\"Average Change: (avg_change_in_profit) \\n\")\n",
    "    txt_file.write(f\"Greatest Increase in Profits: (max_profit_increase) \\n\")\n",
    "    txt_file.write(f\"Greatest Decrease in Profits: (min_profit_increase)\")"
   ]
  },
  {
   "cell_type": "code",
   "execution_count": null,
   "id": "4e06b24a-de82-4d3f-8ac1-04cd3e2d7e82",
   "metadata": {},
   "outputs": [],
   "source": []
  }
 ],
 "metadata": {
  "kernelspec": {
   "display_name": "Python 3",
   "language": "python",
   "name": "python3"
  },
  "language_info": {
   "codemirror_mode": {
    "name": "ipython",
    "version": 3
   },
   "file_extension": ".py",
   "mimetype": "text/x-python",
   "name": "python",
   "nbconvert_exporter": "python",
   "pygments_lexer": "ipython3",
   "version": "3.7.10"
  }
 },
 "nbformat": 4,
 "nbformat_minor": 5
}
